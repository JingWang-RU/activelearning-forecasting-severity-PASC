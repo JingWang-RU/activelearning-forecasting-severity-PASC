{
 "cells": [
  {
   "cell_type": "code",
   "execution_count": 84,
   "id": "603ffc88-d087-47e4-8e03-092c475c1278",
   "metadata": {},
   "outputs": [],
   "source": [
    "from datasets import load_dataset\n"
   ]
  },
  {
   "cell_type": "code",
   "execution_count": 20,
   "id": "12180860-e450-4b34-a43b-46e72c25fcd2",
   "metadata": {},
   "outputs": [],
   "source": [
    "from pathlib import Path\n",
    "\n",
    "def parse_pmc_txt(file_path):\n",
    "    pmcid = file_path.stem\n",
    "    with open(file_path, \"r\", encoding=\"utf-8\") as f:\n",
    "        lines = f.readlines()\n",
    "    events, offsets = zip(*(line.strip().split(\"\\t\") for line in lines))\n",
    "    return {\n",
    "        \"pmcid\": pmcid,\n",
    "        \"events\": list(events),\n",
    "        \"timestamp\": [float(x) for x in offsets],\n",
    "    }\n",
    "\n",
    "# Folder containing txt files (e.g., pmc_txt/PMC1234.txt)\n",
    "data_dir = Path(\"../am_18_llm/\")\n",
    "all_pmc_data = [parse_pmc_txt(p) for p in data_dir.glob(\"*.txt\")]\n",
    "df_pmc = pd.DataFrame(all_pmc_data)"
   ]
  },
  {
   "cell_type": "code",
   "execution_count": null,
   "id": "3002d1d4-a030-449d-84fb-2cdd01e4f838",
   "metadata": {},
   "outputs": [],
   "source": [
    "content_dir = '../data/text/'\n",
    "def build_sample(pmcid):\n",
    "    content_path = content_dir + f\"{pmcid[3:]}.txt\"\n",
    "\n",
    "    with open(content_path, \"r\", encoding=\"utf-8\") as f:\n",
    "        content = f.read().strip()\n",
    "\n",
    "    return {\n",
    "        \"pmcid\": pmcid,\n",
    "        \"content\": content\n",
    "    }\n",
    "\n",
    "# Step 3: Build dataset\n",
    "contents = []\n",
    "for pmcid in df_m[\"pmcid\"]:\n",
    "    contents.append(build_sample(pmcid))\n",
    "\n",
    "df = pd.DataFrame(contents)\n"
   ]
  },
  {
   "cell_type": "code",
   "execution_count": 25,
   "id": "e675d4ac-208e-4aea-a3fe-12aefcd860d6",
   "metadata": {},
   "outputs": [],
   "source": [
    "# df_labels.head()\n",
    "df_labels = pd.read_csv(\"../am_risk_annote0310.csv\")  # columns: [\"pmcid\", \"label\"]\n",
    "df_label = df_labels.rename(columns={'filename': 'pmcid'})\n",
    "\n",
    "df_merged = df_pmc.merge(df_label, on=\"pmcid\")\n",
    "df_mc = df.merge(df_merged, on=\"pmcid\")\n",
    "df_m = df_m.rename(columns={'events':'event'})\n",
    "\n",
    "desired_order = ['pmcid', 'risk', 'event','timestamp']\n",
    "df_m=df_m[desired_order]"
   ]
  },
  {
   "cell_type": "code",
   "execution_count": 80,
   "id": "83cb95fa-c370-4a58-a368-24701d50bfa9",
   "metadata": {},
   "outputs": [
    {
     "data": {
      "application/vnd.jupyter.widget-view+json": {
       "model_id": "a4406013eb1940a393100b113fbaf96e",
       "version_major": 2,
       "version_minor": 0
      },
      "text/plain": [
       "Uploading the dataset shards:   0%|          | 0/1 [00:00<?, ?it/s]"
      ]
     },
     "metadata": {},
     "output_type": "display_data"
    },
    {
     "data": {
      "application/vnd.jupyter.widget-view+json": {
       "model_id": "f9f2482493b947ec9441b6a2aa3b69ff",
       "version_major": 2,
       "version_minor": 0
      },
      "text/plain": [
       "Creating parquet from Arrow format:   0%|          | 0/1 [00:00<?, ?ba/s]"
      ]
     },
     "metadata": {},
     "output_type": "display_data"
    },
    {
     "data": {
      "application/vnd.jupyter.widget-view+json": {
       "model_id": "e873e08ed2ef4623b863ab1f14a91d00",
       "version_major": 2,
       "version_minor": 0
      },
      "text/plain": [
       "README.md:   0%|          | 0.00/423 [00:00<?, ?B/s]"
      ]
     },
     "metadata": {},
     "output_type": "display_data"
    },
    {
     "data": {
      "text/plain": [
       "CommitInfo(commit_url='https://huggingface.co/datasets/juliawang2024/longcovid-risk-eventtimeseries/commit/ca64a88ce883554d583219c9fa04c12e8c55146d', commit_message='Upload dataset', commit_description='', oid='ca64a88ce883554d583219c9fa04c12e8c55146d', pr_url=None, repo_url=RepoUrl('https://huggingface.co/datasets/juliawang2024/longcovid-risk-eventtimeseries', endpoint='https://huggingface.co', repo_type='dataset', repo_id='juliawang2024/longcovid-risk-eventtimeseries'), pr_revision=None, pr_num=None)"
      ]
     },
     "execution_count": 80,
     "metadata": {},
     "output_type": "execute_result"
    }
   ],
   "source": [
    "from datasets import Dataset, DatasetDict\n",
    "# df_merged.iloc[0]['events']\n",
    "from datasets import Dataset\n",
    "\n",
    "hf_dataset = Dataset.from_pandas(df_mc.drop(columns=[\"__index_level_0__\"], errors=\"ignore\"))\n",
    "\n",
    "dataset_dict = DatasetDict({\"full\": hf_dataset})  # or use your own splits\n",
    "from huggingface_hub import login\n",
    "login(token=\"***\")\n",
    "dataset_dict.push_to_hub(\"juliawang2024/longcovid-risk-eventtimeseries\")\n"
   ]
  }
 ],
 "metadata": {
  "kernelspec": {
   "display_name": "Python (nltk)",
   "language": "python",
   "name": "nltk_envs"
  },
  "language_info": {
   "codemirror_mode": {
    "name": "ipython",
    "version": 3
   },
   "file_extension": ".py",
   "mimetype": "text/x-python",
   "name": "python",
   "nbconvert_exporter": "python",
   "pygments_lexer": "ipython3",
   "version": "3.8.20"
  }
 },
 "nbformat": 4,
 "nbformat_minor": 5
}
